{
 "cells": [
  {
   "cell_type": "markdown",
   "id": "cc2ed767",
   "metadata": {},
   "source": [
    "## ML algo from scratch\n",
    "\n"
   ]
  },
  {
   "cell_type": "markdown",
   "id": "4b4a9a46",
   "metadata": {},
   "source": [
    "## # Linear Rgression multivaritate variable"
   ]
  },
  {
   "cell_type": "code",
   "execution_count": 40,
   "id": "e39eeff5",
   "metadata": {},
   "outputs": [
    {
     "name": "stdout",
     "output_type": "stream",
     "text": [
      "   total bill  tip\n",
      "0          34    5\n",
      "1         108   17\n",
      "2          64   11\n",
      "3          88    8\n",
      "4          99   14\n",
      "5          51    5\n"
     ]
    }
   ],
   "source": [
    "import  pandas as pd\n",
    "import numpy as np\n",
    "df=pd.read_csv(\"D:/tip.csv\")\n",
    "print(df)\n",
    "x=df[\"total bill\"]\n",
    "y=df[\"tip\"]\n",
    "x=np.array(x)\n",
    "y=np.array(y)"
   ]
  },
  {
   "cell_type": "markdown",
   "id": "2fc4dc01",
   "metadata": {},
   "source": [
    "*x is independent variable*\n",
    "\n",
    "\n",
    "*y is dependent variable*"
   ]
  },
  {
   "cell_type": "code",
   "execution_count": 41,
   "id": "8234a061",
   "metadata": {},
   "outputs": [],
   "source": [
    "class linearRegression:\n",
    "    def fit(self,x,y):\n",
    "        self.x=x\n",
    "        self.y=y\n",
    "    def ccr(self):\n",
    "        n=len(self.x)\n",
    "        nume=(n*np.sum(self.x*self.y))-(np.sum(self.x)*np.sum(self.y))\n",
    "        deno=np.sqrt((n*np.sum(self.x**2)-np.sum(self.x)**2)*(n*np.sum(self.y**2)-np.sum(self.y)**2)) \n",
    "        cc=nume/deno\n",
    "        return cc \n",
    "    if cc<=1 and cc>=0.5555:\n",
    "           def slope(self):\n",
    "                x1=np.mean(self.x)\n",
    "                y1=np.mean(self.y)\n",
    "                b1_nume=np.sum((self.x-x1)*(self.y-y1))\n",
    "                b1_dino=np.sum((self.x-x1)**2)\n",
    "                b1=b1_nume/b1_dino\n",
    "                return b1\n",
    "           def intercept(self):\n",
    "                b0=np.mean(y)-self.slope()*np.mean(x)\n",
    "                return b0\n",
    "           def pridict(self,input):\n",
    "                b1=self.slope()\n",
    "                b0=self.intercept()\n",
    "                pri=b0+b1*input\n",
    "                return pri\n",
    "    else:\n",
    "         print(\"not fit\")       \n"
   ]
  },
  {
   "cell_type": "code",
   "execution_count": 42,
   "id": "7aa11469",
   "metadata": {},
   "outputs": [
    {
     "name": "stdout",
     "output_type": "stream",
     "text": [
      "corelation coefficent: 0.8656649996294481\n",
      "slope: 0.14621968616262482\n",
      "intercept -0.8202567760342365\n",
      "preidcited tip, 28.42368045649073\n"
     ]
    }
   ],
   "source": [
    "l=linearRegression()\n",
    "l.fit(x,y)\n",
    "cc=l.ccr()\n",
    "print(\"corelation coefficent:\",cc)\n",
    "slope=l.slope()\n",
    "print(\"slope:\",slope)\n",
    "intercept=l.intercept()\n",
    "print(\"intercept\",intercept)\n",
    "pridict=l.pridict(200)\n",
    "print(\"preidcited tip,\",pridict)\n"
   ]
  },
  {
   "cell_type": "code",
   "execution_count": null,
   "id": "8a26d8a3",
   "metadata": {},
   "outputs": [],
   "source": []
  },
  {
   "cell_type": "markdown",
   "id": "88550e24",
   "metadata": {},
   "source": [
    "## Logistic Regression Multivariate variable\n",
    "using data set of Loan approval "
   ]
  },
  {
   "cell_type": "code",
   "execution_count": 98,
   "id": "d7343379",
   "metadata": {},
   "outputs": [
    {
     "data": {
      "text/html": [
       "<div>\n",
       "<style scoped>\n",
       "    .dataframe tbody tr th:only-of-type {\n",
       "        vertical-align: middle;\n",
       "    }\n",
       "\n",
       "    .dataframe tbody tr th {\n",
       "        vertical-align: top;\n",
       "    }\n",
       "\n",
       "    .dataframe thead th {\n",
       "        text-align: right;\n",
       "    }\n",
       "</style>\n",
       "<table border=\"1\" class=\"dataframe\">\n",
       "  <thead>\n",
       "    <tr style=\"text-align: right;\">\n",
       "      <th></th>\n",
       "      <th>loan_id</th>\n",
       "      <th>no_of_dependents</th>\n",
       "      <th>education</th>\n",
       "      <th>income_annum</th>\n",
       "      <th>loan_amount</th>\n",
       "      <th>cibil_score</th>\n",
       "      <th>loan_status</th>\n",
       "    </tr>\n",
       "  </thead>\n",
       "  <tbody>\n",
       "    <tr>\n",
       "      <th>0</th>\n",
       "      <td>1</td>\n",
       "      <td>2</td>\n",
       "      <td>Graduate</td>\n",
       "      <td>9600000</td>\n",
       "      <td>29900000</td>\n",
       "      <td>778</td>\n",
       "      <td>Approved</td>\n",
       "    </tr>\n",
       "    <tr>\n",
       "      <th>1</th>\n",
       "      <td>2</td>\n",
       "      <td>0</td>\n",
       "      <td>Not Graduate</td>\n",
       "      <td>4100000</td>\n",
       "      <td>12200000</td>\n",
       "      <td>417</td>\n",
       "      <td>Rejected</td>\n",
       "    </tr>\n",
       "    <tr>\n",
       "      <th>2</th>\n",
       "      <td>3</td>\n",
       "      <td>3</td>\n",
       "      <td>Graduate</td>\n",
       "      <td>9100000</td>\n",
       "      <td>29700000</td>\n",
       "      <td>506</td>\n",
       "      <td>Rejected</td>\n",
       "    </tr>\n",
       "    <tr>\n",
       "      <th>3</th>\n",
       "      <td>4</td>\n",
       "      <td>3</td>\n",
       "      <td>Graduate</td>\n",
       "      <td>8200000</td>\n",
       "      <td>30700000</td>\n",
       "      <td>467</td>\n",
       "      <td>Rejected</td>\n",
       "    </tr>\n",
       "    <tr>\n",
       "      <th>4</th>\n",
       "      <td>5</td>\n",
       "      <td>5</td>\n",
       "      <td>Not Graduate</td>\n",
       "      <td>9800000</td>\n",
       "      <td>24200000</td>\n",
       "      <td>382</td>\n",
       "      <td>Rejected</td>\n",
       "    </tr>\n",
       "    <tr>\n",
       "      <th>...</th>\n",
       "      <td>...</td>\n",
       "      <td>...</td>\n",
       "      <td>...</td>\n",
       "      <td>...</td>\n",
       "      <td>...</td>\n",
       "      <td>...</td>\n",
       "      <td>...</td>\n",
       "    </tr>\n",
       "    <tr>\n",
       "      <th>4264</th>\n",
       "      <td>4265</td>\n",
       "      <td>5</td>\n",
       "      <td>Graduate</td>\n",
       "      <td>1000000</td>\n",
       "      <td>2300000</td>\n",
       "      <td>317</td>\n",
       "      <td>Rejected</td>\n",
       "    </tr>\n",
       "    <tr>\n",
       "      <th>4265</th>\n",
       "      <td>4266</td>\n",
       "      <td>0</td>\n",
       "      <td>Not Graduate</td>\n",
       "      <td>3300000</td>\n",
       "      <td>11300000</td>\n",
       "      <td>559</td>\n",
       "      <td>Approved</td>\n",
       "    </tr>\n",
       "    <tr>\n",
       "      <th>4266</th>\n",
       "      <td>4267</td>\n",
       "      <td>2</td>\n",
       "      <td>Not Graduate</td>\n",
       "      <td>6500000</td>\n",
       "      <td>23900000</td>\n",
       "      <td>457</td>\n",
       "      <td>Rejected</td>\n",
       "    </tr>\n",
       "    <tr>\n",
       "      <th>4267</th>\n",
       "      <td>4268</td>\n",
       "      <td>1</td>\n",
       "      <td>Not Graduate</td>\n",
       "      <td>4100000</td>\n",
       "      <td>12800000</td>\n",
       "      <td>780</td>\n",
       "      <td>Approved</td>\n",
       "    </tr>\n",
       "    <tr>\n",
       "      <th>4268</th>\n",
       "      <td>4269</td>\n",
       "      <td>1</td>\n",
       "      <td>Graduate</td>\n",
       "      <td>9200000</td>\n",
       "      <td>29700000</td>\n",
       "      <td>607</td>\n",
       "      <td>Approved</td>\n",
       "    </tr>\n",
       "  </tbody>\n",
       "</table>\n",
       "<p>4269 rows × 7 columns</p>\n",
       "</div>"
      ],
      "text/plain": [
       "      loan_id   no_of_dependents      education   income_annum   loan_amount  \\\n",
       "0           1                  2       Graduate        9600000      29900000   \n",
       "1           2                  0   Not Graduate        4100000      12200000   \n",
       "2           3                  3       Graduate        9100000      29700000   \n",
       "3           4                  3       Graduate        8200000      30700000   \n",
       "4           5                  5   Not Graduate        9800000      24200000   \n",
       "...       ...                ...            ...            ...           ...   \n",
       "4264     4265                  5       Graduate        1000000       2300000   \n",
       "4265     4266                  0   Not Graduate        3300000      11300000   \n",
       "4266     4267                  2   Not Graduate        6500000      23900000   \n",
       "4267     4268                  1   Not Graduate        4100000      12800000   \n",
       "4268     4269                  1       Graduate        9200000      29700000   \n",
       "\n",
       "       cibil_score  loan_status  \n",
       "0              778     Approved  \n",
       "1              417     Rejected  \n",
       "2              506     Rejected  \n",
       "3              467     Rejected  \n",
       "4              382     Rejected  \n",
       "...            ...          ...  \n",
       "4264           317     Rejected  \n",
       "4265           559     Approved  \n",
       "4266           457     Rejected  \n",
       "4267           780     Approved  \n",
       "4268           607     Approved  \n",
       "\n",
       "[4269 rows x 7 columns]"
      ]
     },
     "execution_count": 98,
     "metadata": {},
     "output_type": "execute_result"
    }
   ],
   "source": [
    "import pandas as pd\n",
    "import numpy as np\n",
    "import math as mt\n",
    "\n",
    "df=pd.read_csv(\"D:/loan_approval_dataset.csv\")\n",
    "df\n",
    "\n",
    "\n",
    "\n"
   ]
  },
  {
   "cell_type": "code",
   "execution_count": 99,
   "id": "1b1afb78",
   "metadata": {},
   "outputs": [],
   "source": [
    "df=df.drop(\"loan_id\",axis=1)"
   ]
  },
  {
   "cell_type": "code",
   "execution_count": 100,
   "id": "531e7e9a",
   "metadata": {},
   "outputs": [
    {
     "name": "stdout",
     "output_type": "stream",
     "text": [
      "[' Graduate' ' Not Graduate']\n",
      "[' Approved' ' Rejected']\n",
      "      no_of_dependents  education  income_annum  loan_amount  cibil_score  \\\n",
      "0                    2          1       9600000     29900000          778   \n",
      "1                    0          0       4100000     12200000          417   \n",
      "2                    3          1       9100000     29700000          506   \n",
      "3                    3          1       8200000     30700000          467   \n",
      "4                    5          0       9800000     24200000          382   \n",
      "...                ...        ...           ...          ...          ...   \n",
      "4264                 5          1       1000000      2300000          317   \n",
      "4265                 0          0       3300000     11300000          559   \n",
      "4266                 2          0       6500000     23900000          457   \n",
      "4267                 1          0       4100000     12800000          780   \n",
      "4268                 1          1       9200000     29700000          607   \n",
      "\n",
      "      loan_status  \n",
      "0               1  \n",
      "1               0  \n",
      "2               0  \n",
      "3               0  \n",
      "4               0  \n",
      "...           ...  \n",
      "4264            0  \n",
      "4265            1  \n",
      "4266            0  \n",
      "4267            1  \n",
      "4268            1  \n",
      "\n",
      "[4269 rows x 6 columns]\n"
     ]
    }
   ],
   "source": [
    "print(df[\" education\"].unique())\n",
    "print(df[\" loan_status\"].unique())\n",
    "df[\" education\"]=df[\" education\"].map({\" Graduate\":1,\" Not Graduate\":0})\n",
    "df[\" loan_status\"]=df[\" loan_status\"].map({\" Approved\":1,\" Rejected\":0})\n",
    "\n",
    "\n",
    "print(df)\n",
    "\n",
    "\n"
   ]
  },
  {
   "cell_type": "code",
   "execution_count": 101,
   "id": "f6048f1d",
   "metadata": {},
   "outputs": [],
   "source": [
    "x=df.drop(\" loan_status\",axis=1)\n",
    "y=df[\" loan_status\"]"
   ]
  },
  {
   "cell_type": "code",
   "execution_count": 102,
   "id": "1a3d7e1b",
   "metadata": {},
   "outputs": [],
   "source": [
    "from sklearn.preprocessing import StandardScaler\n",
    "\n",
    "scaler = StandardScaler()\n",
    "X_scaled = scaler.fit_transform(x)"
   ]
  },
  {
   "cell_type": "code",
   "execution_count": 103,
   "id": "58bb9ca9",
   "metadata": {},
   "outputs": [
    {
     "name": "stdout",
     "output_type": "stream",
     "text": [
      "ho gaya bhai Train\n"
     ]
    }
   ],
   "source": [
    "import numpy as np\n",
    "n_features=X_scaled.shape[1]\n",
    "w=np.zeros(n_features)\n",
    "b=0\n",
    "lr=0.01\n",
    "epoch=1000\n",
    "def sigmoid(z):\n",
    "    return 1/(1+np.exp(-z))\n",
    "for i in range(epoch):\n",
    "    z=np.dot(X_scaled,w)+b\n",
    "    y_pridi=sigmoid(z)\n",
    "\n",
    "    error=y_pridi-y\n",
    "    derivative_of_loss_fn_wrt_weight=((1/len(X_scaled) * np.dot(X_scaled.T,error)))\n",
    "    derivative_of_loss_fn_wrt_bias=1/((len(X_scaled)*np.sum(error)))\n",
    "\n",
    "    w=w-lr*derivative_of_loss_fn_wrt_weight\n",
    "    b=b-lr*derivative_of_loss_fn_wrt_bias\n",
    "print(\"ho gaya bhai Train\")    "
   ]
  },
  {
   "cell_type": "code",
   "execution_count": 104,
   "id": "26d1b3cc",
   "metadata": {},
   "outputs": [
    {
     "name": "stdout",
     "output_type": "stream",
     "text": [
      "no_of_dependents    2.498712e+00\n",
      "education           5.022253e-01\n",
      "income_annum        5.059124e+06\n",
      "loan_amount         1.513345e+07\n",
      "cibil_score         5.999361e+02\n",
      "dtype: float64\n",
      "no_of_dependents    1.695910e+00\n",
      "education           5.000536e-01\n",
      "income_annum        2.806840e+06\n",
      "loan_amount         9.043363e+06\n",
      "cibil_score         1.724304e+02\n",
      "dtype: float64\n"
     ]
    }
   ],
   "source": [
    "z=np.dot(X_scaled,w)+b\n",
    "y_pridi=sigmoid(z)\n",
    "y_pred_label = [1 if i >= 0.5 else 0 for i in y_pridi]\n",
    "X = df[[\" no_of_dependents\", \" education\", \" income_annum\", \" loan_amount\", \" cibil_score\"]]\n",
    "mean=X.mean()\n",
    "std=X.std()\n",
    "print(mean)\n",
    "print(std)\n"
   ]
  },
  {
   "cell_type": "code",
   "execution_count": 109,
   "id": "6662aa2e",
   "metadata": {},
   "outputs": [
    {
     "name": "stdout",
     "output_type": "stream",
     "text": [
      "Prediction: 1\n",
      "APPROVED\n"
     ]
    }
   ],
   "source": [
    "# New input\n",
    "# Assume tumne ye kiya\n",
    "mean = X.mean()\n",
    "std = X.std()\n",
    "\n",
    "# Tumhara ek new input\n",
    "new_input = np.array([[2, 1, 9000000, 25000000, 700]])  # Shape (1,5)\n",
    "\n",
    "# Ab scaling karo\n",
    "new_input_scaled = (new_input - mean.values) / std.values\n",
    "\n",
    "\n",
    "# Predict karo\n",
    "z = np.dot(new_input_scaled, w) + b\n",
    "y_pred = sigmoid(z)\n",
    "label = 1 if y_pred >= 0.5 else 0\n",
    "\n",
    "print(\"Prediction:\", label)\n",
    "if label==1:\n",
    "    print(\"APPROVED\")\n",
    "else:\n",
    "    print(\"NOT APPROVED\")    \n"
   ]
  },
  {
   "cell_type": "markdown",
   "id": "da93a4a0",
   "metadata": {},
   "source": [
    "# Decison Tree"
   ]
  },
  {
   "cell_type": "code",
   "execution_count": null,
   "id": "c4af6444",
   "metadata": {},
   "outputs": [],
   "source": [
    "import math\n",
    "from collections import Counter\n",
    "\n",
    "class EntropyCalculator:\n",
    "    def __init__(self, X, y):\n",
    "        self.X = X  # Feature matrix (list of lists)\n",
    "        self.y = y  # Labels\n",
    "\n",
    "    def entropy(self, labels):\n",
    "        counter = Counter(labels)\n",
    "        total = len(labels)\n",
    "        entropy = 0\n",
    "        for count in counter.values():\n",
    "            prob = count / total\n",
    "            entropy -= prob * math.log2(prob)\n",
    "        return entropy\n",
    "\n",
    "    def information_gain(self, feature_index, threshold):\n",
    "        # Full entropy\n",
    "        parent_entropy = self.entropy(self.y)\n",
    "\n",
    "       \n",
    "        left_labels = []\n",
    "        right_labels = []\n",
    "\n",
    "        for i in range(len(self.X)):\n",
    "            if self.X[i][feature_index] <= threshold:\n",
    "                left_labels.append(self.y[i])\n",
    "            else:\n",
    "                right_labels.append(self.y[i])\n",
    "\n",
    "        # Weighted child entropy\n",
    "        n = len(self.y)\n",
    "        n_left = len(left_labels)\n",
    "        n_right = len(right_labels)\n",
    "\n",
    "        if n_left == 0 or n_right == 0:\n",
    "            return 0  # Invalid split\n",
    "\n",
    "        left_entropy = self.entropy(left_labels)\n",
    "        right_entropy = self.entropy(right_labels)\n",
    "\n",
    "        weighted_entropy = (n_left / n) * left_entropy + (n_right / n) * right_entropy\n",
    "        info_gain = parent_entropy - weighted_entropy\n",
    "\n",
    "        return info_gain"
   ]
  },
  {
   "cell_type": "markdown",
   "id": "e672e362",
   "metadata": {},
   "source": [
    "# K-Mean Clustering"
   ]
  },
  {
   "cell_type": "code",
   "execution_count": 35,
   "id": "13519367",
   "metadata": {},
   "outputs": [],
   "source": [
    "import numpy as np\n",
    "import pandas as pd\n",
    "import random\n",
    "\n",
    "class kmeans:\n",
    "    def __init__(self,n_cluster=2,max_iter=100):\n",
    "        self.n_cluster=n_cluster\n",
    "        self.max_iter=max_iter\n",
    "        self.centeroid=None\n",
    "    def   fit_pridict(self,X):\n",
    "        random_sampel=random.sample(range(0,X.shape[0]),self.n_cluster)\n",
    "        self.centeroid=X[random_sampel]\n",
    "\n",
    "        for i in range(self.max_iter):\n",
    "           cluster_group=self.assing_cluster(X)\n",
    "           old_centroid=self.centeroid\n",
    "\n",
    "           self.centeroid=self.move_centroid(X,cluster_group)\n",
    "           if (old_centroid==self.centeroid).all():\n",
    "               break\n",
    "        return cluster_group       \n",
    "\n",
    "    def assing_cluster(self,X):\n",
    "        cluster_group=[]\n",
    "        distance=[]\n",
    "        for row in  X:\n",
    "            for centroid in self.centeroid:\n",
    "                distance.append(np.sqrt(np.dot(row-centroid,row-centroid)))\n",
    "            min_distace=min(distance)\n",
    "            index_pos=distance.index(min_distace)\n",
    "            cluster_group.append(index_pos)\n",
    "            distance.clear()\n",
    "        return np.array(cluster_group)\n",
    "    def move_centroid(self,X,cluster_group):\n",
    "        new_centroid=[]\n",
    "        cluster_type=np.unique(cluster_group)\n",
    "        for type in cluster_type:\n",
    "            new_centroid.append(X[cluster_group==type].mean(axis=0))\n",
    "        return np.array(new_centroid)                \n",
    "\n",
    "\n"
   ]
  },
  {
   "cell_type": "code",
   "execution_count": null,
   "id": "46a8dd1a",
   "metadata": {},
   "outputs": [
    {
     "data": {
      "image/png": "[encoded data removed]",
      "text/plain": [
       "<Figure size 640x480 with 1 Axes>"
      ]
     },
     "metadata": {},
     "output_type": "display_data"
    }
   ],
   "source": [
    "from sklearn.datasets import make_blobs\n",
    "import matplotlib.pyplot as plt\n",
    "\n",
    "import pandas as pd\n",
    "\n",
    "\n",
    "df = pd.read_csv(\"D:/student_clustering.csv\")\n",
    "\n",
    "X = df.iloc[:,:].values\n",
    "\n",
    "km = kmeans(n_cluster=4,max_iter=500)\n",
    "y_means = km.fit_pridict(X)\n",
    "\n",
    "plt.scatter(X[y_means == 0,0],X[y_means == 0,1],color='red')\n",
    "plt.scatter(X[y_means == 1,0],X[y_means == 1,1],color='blue')\n",
    "plt.scatter(X[y_means == 2,0],X[y_means == 2,1],color='green')\n",
    "plt.scatter(X[y_means == 3,0],X[y_means == 3,1],color='yellow')\n",
    "plt.show()"
   ]
  },
  {
   "cell_type": "markdown",
   "id": "0c72e1e3",
   "metadata": {},
   "source": [
    "# Naive-Bias"
   ]
  },
  {
   "cell_type": "code",
   "execution_count": 1,
   "id": "562605dd",
   "metadata": {},
   "outputs": [],
   "source": [
    "import pandas as pd\n",
    "import numpy as np\n"
   ]
  },
  {
   "cell_type": "code",
   "execution_count": 11,
   "id": "9d7a126a",
   "metadata": {},
   "outputs": [],
   "source": [
    "data=pd.read_csv(\"D:/play_tennis.csv\")\n",
    "data=data.drop(columns=[\"day\"])\n"
   ]
  },
  {
   "cell_type": "code",
   "execution_count": 14,
   "id": "628705c1",
   "metadata": {},
   "outputs": [
    {
     "data": {
      "text/html": [
       "<div>\n",
       "<style scoped>\n",
       "    .dataframe tbody tr th:only-of-type {\n",
       "        vertical-align: middle;\n",
       "    }\n",
       "\n",
       "    .dataframe tbody tr th {\n",
       "        vertical-align: top;\n",
       "    }\n",
       "\n",
       "    .dataframe thead th {\n",
       "        text-align: right;\n",
       "    }\n",
       "</style>\n",
       "<table border=\"1\" class=\"dataframe\">\n",
       "  <thead>\n",
       "    <tr style=\"text-align: right;\">\n",
       "      <th></th>\n",
       "      <th>outlook</th>\n",
       "      <th>temp</th>\n",
       "      <th>humidity</th>\n",
       "      <th>wind</th>\n",
       "      <th>play</th>\n",
       "    </tr>\n",
       "  </thead>\n",
       "  <tbody>\n",
       "    <tr>\n",
       "      <th>0</th>\n",
       "      <td>Sunny</td>\n",
       "      <td>Hot</td>\n",
       "      <td>High</td>\n",
       "      <td>Weak</td>\n",
       "      <td>No</td>\n",
       "    </tr>\n",
       "    <tr>\n",
       "      <th>1</th>\n",
       "      <td>Sunny</td>\n",
       "      <td>Hot</td>\n",
       "      <td>High</td>\n",
       "      <td>Strong</td>\n",
       "      <td>No</td>\n",
       "    </tr>\n",
       "    <tr>\n",
       "      <th>2</th>\n",
       "      <td>Overcast</td>\n",
       "      <td>Hot</td>\n",
       "      <td>High</td>\n",
       "      <td>Weak</td>\n",
       "      <td>Yes</td>\n",
       "    </tr>\n",
       "    <tr>\n",
       "      <th>3</th>\n",
       "      <td>Rain</td>\n",
       "      <td>Mild</td>\n",
       "      <td>High</td>\n",
       "      <td>Weak</td>\n",
       "      <td>Yes</td>\n",
       "    </tr>\n",
       "    <tr>\n",
       "      <th>4</th>\n",
       "      <td>Rain</td>\n",
       "      <td>Cool</td>\n",
       "      <td>Normal</td>\n",
       "      <td>Weak</td>\n",
       "      <td>Yes</td>\n",
       "    </tr>\n",
       "  </tbody>\n",
       "</table>\n",
       "</div>"
      ],
      "text/plain": [
       "    outlook  temp humidity    wind play\n",
       "0     Sunny   Hot     High    Weak   No\n",
       "1     Sunny   Hot     High  Strong   No\n",
       "2  Overcast   Hot     High    Weak  Yes\n",
       "3      Rain  Mild     High    Weak  Yes\n",
       "4      Rain  Cool   Normal    Weak  Yes"
      ]
     },
     "execution_count": 14,
     "metadata": {},
     "output_type": "execute_result"
    }
   ],
   "source": [
    "data.head()"
   ]
  },
  {
   "cell_type": "code",
   "execution_count": 18,
   "id": "c02d24eb",
   "metadata": {},
   "outputs": [
    {
     "data": {
      "text/plain": [
       "play\n",
       "Yes    9\n",
       "No     5\n",
       "Name: count, dtype: int64"
      ]
     },
     "execution_count": 18,
     "metadata": {},
     "output_type": "execute_result"
    }
   ],
   "source": [
    "data[\"play\"].value_counts()"
   ]
  },
  {
   "cell_type": "code",
   "execution_count": 19,
   "id": "736bab26",
   "metadata": {},
   "outputs": [],
   "source": [
    "pro_of_yes=9/14\n",
    "pro_of_no=5/14\n"
   ]
  },
  {
   "cell_type": "code",
   "execution_count": 21,
   "id": "1d0b820b",
   "metadata": {},
   "outputs": [
    {
     "data": {
      "text/html": [
       "<div>\n",
       "<style scoped>\n",
       "    .dataframe tbody tr th:only-of-type {\n",
       "        vertical-align: middle;\n",
       "    }\n",
       "\n",
       "    .dataframe tbody tr th {\n",
       "        vertical-align: top;\n",
       "    }\n",
       "\n",
       "    .dataframe thead th {\n",
       "        text-align: right;\n",
       "    }\n",
       "</style>\n",
       "<table border=\"1\" class=\"dataframe\">\n",
       "  <thead>\n",
       "    <tr style=\"text-align: right;\">\n",
       "      <th>play</th>\n",
       "      <th>No</th>\n",
       "      <th>Yes</th>\n",
       "    </tr>\n",
       "    <tr>\n",
       "      <th>outlook</th>\n",
       "      <th></th>\n",
       "      <th></th>\n",
       "    </tr>\n",
       "  </thead>\n",
       "  <tbody>\n",
       "    <tr>\n",
       "      <th>Overcast</th>\n",
       "      <td>0</td>\n",
       "      <td>4</td>\n",
       "    </tr>\n",
       "    <tr>\n",
       "      <th>Rain</th>\n",
       "      <td>2</td>\n",
       "      <td>3</td>\n",
       "    </tr>\n",
       "    <tr>\n",
       "      <th>Sunny</th>\n",
       "      <td>3</td>\n",
       "      <td>2</td>\n",
       "    </tr>\n",
       "  </tbody>\n",
       "</table>\n",
       "</div>"
      ],
      "text/plain": [
       "play      No  Yes\n",
       "outlook          \n",
       "Overcast   0    4\n",
       "Rain       2    3\n",
       "Sunny      3    2"
      ]
     },
     "execution_count": 21,
     "metadata": {},
     "output_type": "execute_result"
    }
   ],
   "source": [
    "pd.crosstab(data[\"outlook\"],data[\"play\"])"
   ]
  },
  {
   "cell_type": "code",
   "execution_count": 22,
   "id": "027c4e09",
   "metadata": {},
   "outputs": [],
   "source": [
    "pro_of_over_no=0\n",
    "pro_of_rain_no=2/5\n",
    "pro_of_sunny_no=3/5\n",
    "\n",
    "pro_of_over_yes=4/9\n",
    "pro_of_rain_yes=3/9\n",
    "pro_of_sunny_yes=2/9"
   ]
  },
  {
   "cell_type": "code",
   "execution_count": 25,
   "id": "44468477",
   "metadata": {},
   "outputs": [
    {
     "data": {
      "text/html": [
       "<div>\n",
       "<style scoped>\n",
       "    .dataframe tbody tr th:only-of-type {\n",
       "        vertical-align: middle;\n",
       "    }\n",
       "\n",
       "    .dataframe tbody tr th {\n",
       "        vertical-align: top;\n",
       "    }\n",
       "\n",
       "    .dataframe thead th {\n",
       "        text-align: right;\n",
       "    }\n",
       "</style>\n",
       "<table border=\"1\" class=\"dataframe\">\n",
       "  <thead>\n",
       "    <tr style=\"text-align: right;\">\n",
       "      <th>play</th>\n",
       "      <th>No</th>\n",
       "      <th>Yes</th>\n",
       "    </tr>\n",
       "    <tr>\n",
       "      <th>temp</th>\n",
       "      <th></th>\n",
       "      <th></th>\n",
       "    </tr>\n",
       "  </thead>\n",
       "  <tbody>\n",
       "    <tr>\n",
       "      <th>Cool</th>\n",
       "      <td>1</td>\n",
       "      <td>3</td>\n",
       "    </tr>\n",
       "    <tr>\n",
       "      <th>Hot</th>\n",
       "      <td>2</td>\n",
       "      <td>2</td>\n",
       "    </tr>\n",
       "    <tr>\n",
       "      <th>Mild</th>\n",
       "      <td>2</td>\n",
       "      <td>4</td>\n",
       "    </tr>\n",
       "  </tbody>\n",
       "</table>\n",
       "</div>"
      ],
      "text/plain": [
       "play  No  Yes\n",
       "temp         \n",
       "Cool   1    3\n",
       "Hot    2    2\n",
       "Mild   2    4"
      ]
     },
     "execution_count": 25,
     "metadata": {},
     "output_type": "execute_result"
    }
   ],
   "source": [
    "pd.crosstab(data[\"temp\"],data[\"play\"])\n"
   ]
  },
  {
   "cell_type": "code",
   "execution_count": 26,
   "id": "63536b8c",
   "metadata": {},
   "outputs": [],
   "source": [
    "pro_of_cool_no=1/5\n",
    "pro_of_hot_no=2/5\n",
    "pro_of_mild_no=2/5\n",
    "\n",
    "pro_of_cool_yes=3/9\n",
    "pro_of_hot_yes=2/9\n",
    "pro_of_mild_yes=4/9\n"
   ]
  },
  {
   "cell_type": "code",
   "execution_count": 28,
   "id": "66d381f6",
   "metadata": {},
   "outputs": [
    {
     "data": {
      "text/html": [
       "<div>\n",
       "<style scoped>\n",
       "    .dataframe tbody tr th:only-of-type {\n",
       "        vertical-align: middle;\n",
       "    }\n",
       "\n",
       "    .dataframe tbody tr th {\n",
       "        vertical-align: top;\n",
       "    }\n",
       "\n",
       "    .dataframe thead th {\n",
       "        text-align: right;\n",
       "    }\n",
       "</style>\n",
       "<table border=\"1\" class=\"dataframe\">\n",
       "  <thead>\n",
       "    <tr style=\"text-align: right;\">\n",
       "      <th>play</th>\n",
       "      <th>No</th>\n",
       "      <th>Yes</th>\n",
       "    </tr>\n",
       "    <tr>\n",
       "      <th>humidity</th>\n",
       "      <th></th>\n",
       "      <th></th>\n",
       "    </tr>\n",
       "  </thead>\n",
       "  <tbody>\n",
       "    <tr>\n",
       "      <th>High</th>\n",
       "      <td>4</td>\n",
       "      <td>3</td>\n",
       "    </tr>\n",
       "    <tr>\n",
       "      <th>Normal</th>\n",
       "      <td>1</td>\n",
       "      <td>6</td>\n",
       "    </tr>\n",
       "  </tbody>\n",
       "</table>\n",
       "</div>"
      ],
      "text/plain": [
       "play      No  Yes\n",
       "humidity         \n",
       "High       4    3\n",
       "Normal     1    6"
      ]
     },
     "execution_count": 28,
     "metadata": {},
     "output_type": "execute_result"
    }
   ],
   "source": [
    "pd.crosstab(data[\"humidity\"],data[\"play\"])\n"
   ]
  },
  {
   "cell_type": "code",
   "execution_count": null,
   "id": "05a913db",
   "metadata": {},
   "outputs": [],
   "source": [
    "pro_of_high_no=4/5\n",
    "pro_of_normal_no=1/5\n",
    "\n",
    "pro_of_high_yes=3/9\n",
    "pro_of_normal_yes=6/9\n"
   ]
  }
 ],
 "metadata": {
  "kernelspec": {
   "display_name": "Python 3",
   "language": "python",
   "name": "python3"
  },
  "language_info": {
   "codemirror_mode": {
    "name": "ipython",
    "version": 3
   },
   "file_extension": ".py",
   "mimetype": "text/x-python",
   "name": "python",
   "nbconvert_exporter": "python",
   "pygments_lexer": "ipython3",
   "version": "3.12.2"
  }
 },
 "nbformat": 4,
 "nbformat_minor": 5
}
